{
 "cells": [
  {
   "cell_type": "markdown",
   "metadata": {},
   "source": [
    "# US Senate Project  \n",
    "\n",
    "This project began with a question about historical change in the United States Senate. Seeking an answer, I wondered if a database of US senators existed. One such database can be found [here](https://github.com/unitedstates/congress-legislators) on GitHub. I also found a [chronological list](https://www.senate.gov/artandhistory/history/resources/pdf/chronlist.pdf) of all US senators posted in a PDF file by The Senate Historical Office. The chronological list caught my interest.     \n",
    "\n",
    "About 231 years ago, on March 4, 1789, the First Congress convened, and Richard Bassett of Delaware was registered as the first person to serve as a US Senator. Since then there have been 1984 US senators. The most recent addition to their ranks was Kelly Loeffler, who began her service on January 6, 2020. She joined the 116th Congress as Senator for Georgia. Each Senator has a unique historical rank between 1 and 1984. The chronological list posted by The Senate Historical Office records this history, senator by senator, grouped by congress and year.\n",
    "\n",
    "As a document designed for human readers, the chronological list has merit. With each congress and year highlighted in bold, amidst a design with ample white space, readers may easily scan for desired information and scroll to particular points in the chronology. One may also search the list in simple ways using a PDF reader.\n",
    "\n",
    "On the other hand, containing all these historical data in a PDF file greatly limits their utility. The data can't be searched in more complex ways, nor can they be easily combined with other data. Therein lies the motivation and objective of this project. I set for myself the task of extracting the data from the PDF, transforming them, and loading them into a more useful format."
   ]
  },
  {
   "cell_type": "markdown",
   "metadata": {},
   "source": [
    "**Extracting the Data**  \n",
    "\n",
    "The first step is to extract the content from the PDF file. There is a lot to extract, because the document spans 82 pages. The PyPDF2 library supports this well."
   ]
  },
  {
   "cell_type": "code",
   "execution_count": 1,
   "metadata": {},
   "outputs": [
    {
     "name": "stdout",
     "output_type": "stream",
     "text": [
      "143739\n"
     ]
    }
   ],
   "source": [
    "# Import the PyPDF2 library.\n",
    "import PyPDF2\n",
    "\n",
    "# Read in the pdf file containing the data.\n",
    "filename = '/Users/edpar/python_work/senate_project/chronlist.pdf'\n",
    "pdfFileObj = open(filename, 'rb')\n",
    "pdfReader = PyPDF2.PdfFileReader(pdfFileObj)\n",
    "\n",
    "# Define variable for using in loop.\n",
    "page_content = ''\n",
    "\n",
    "# Extract 81 pages of the source document and combine the content.\n",
    "for page_number in range(1,81):\n",
    "    page = pdfReader.getPage(page_number)\n",
    "    page_content += page.extractText()\n",
    "\n",
    "# Print the length of the resulting extraction.\n",
    "print(len(page_content))"
   ]
  },
  {
   "cell_type": "code",
   "execution_count": 2,
   "metadata": {
    "scrolled": false
   },
   "outputs": [
    {
     "name": "stdout",
     "output_type": "stream",
     "text": [
      "   3 * * * 1791 * * * March 4\n",
      " Bradley, Stephen R. (Anti\n",
      "-Admin\n",
      "-VT)\n",
      " March 3, 1795\n",
      " 30   (Served again 1801)\n",
      "  Burr, Aaron (Anti\n",
      "-Admin/R\n",
      "-NY) March 3, 1797\n",
      " 31  Cabot, George (Pro\n",
      "-Admin/F\n",
      "-MA)\n",
      " June 9, 1796\n",
      " 32  Rutherfurd, John (Pro\n",
      "-Admin/F\n",
      "-NJ)\n",
      " November 26, 1798\n",
      " 33 June 13\n",
      " Sherman, Roger (Pro\n",
      "-Admin\n",
      "-CT)\n",
      " July 23, 1793\n",
      " 34 October 17\n",
      " Robinson, Moses (An\n",
      "ti-Admin/R\n",
      "-VT)\n",
      " October 15, 1796\n",
      " 35  * * * 1792 * * * June 18\n",
      " Brown, John (Anti\n",
      "-A\n"
     ]
    }
   ],
   "source": [
    "# Examine a sample of the resulting page content.\n",
    "print(page_content[2049:2500])"
   ]
  },
  {
   "cell_type": "markdown",
   "metadata": {},
   "source": [
    "**Transforming the Data**  \n",
    "\n",
    "At this stage the data are a mess, and the process of transforming them begins. This work will require extensive use of regular expressions, as well as a library called itertools."
   ]
  },
  {
   "cell_type": "code",
   "execution_count": 3,
   "metadata": {},
   "outputs": [],
   "source": [
    "# Import the Regex and Itertools libraries.\n",
    "import re\n",
    "import itertools"
   ]
  },
  {
   "cell_type": "code",
   "execution_count": 4,
   "metadata": {},
   "outputs": [],
   "source": [
    "# Remove line spaces because they aren't helpful.\n",
    "page_content = page_content.replace('\\n', '')"
   ]
  },
  {
   "cell_type": "code",
   "execution_count": 5,
   "metadata": {},
   "outputs": [
    {
     "name": "stdout",
     "output_type": "stream",
     "text": [
      "FIRST CONGRESS MARCH 4, 1789, TO MARCH 3, 1791 Start of Initial    Senate Service Name/Party End of Service Rank  * * * 1789 * * * March 4 Bassett, Richard (Anti-Admin/Pro-Admin-DE) March 3, 1793 1  Butler, Pierce (Pro-Admin/Anti-Admin/R-SC) October 25, 1796 2   (Served again 1802)  Carroll, Charles (Pro-Admin-MD) November 30, 1792 3  Dalton, Tristram (Pro-Admin-MA) March 3, 1791 4  Ellsworth, Oliver (Pro-Admin/F-CT) March 8, 1796 5  Elmer, Jonathan (Pro-Admin-NJ) March 3, 1791 6  Few, William (Anti-Admin-GA) March 3, 1793 7  Grayson, William (Anti-Admin-VA) March 12, 1790 8  Gunn, James (Anti-Admin/F-GA) March 3, 1801 9  Henry, John (Pro-Admin/F-MD) July 10, 1797 10  Izard, Ralph (Pro-Admin-SC) March 3, 1795 11  Johnson, William S. (Pro-Admin-CT) March 4, 1791 12  Langdon, John (Pro-Admin/Anti-Admin/R-NH) March 3, 1801 13  Lee, Richard Henry (Anti-Admin-VA) October 8, 1792 14  Maclay, William (Anti-Admin-PA) March 3, 1791 15  Morris, Robert (Pro-Admin-PA) March 3, 1795 16  Paterson, William (Pro-Admin-NJ) November 13, 1790 17  Read, George (Pro-Admin-DE) September 18, 1793 18  Schuyler, Philip John (Pro-Admin-NY) March 3, 1791 19   (Served again 1797)  Strong, Caleb (Pro-Admin/F-MA) June 1, 1796 20  Wingate, Paine (Anti-Admin-NH) March 3, 1793 21 July 16 King, Rufus (Pro-Admin/F-NY) May 23, 1796 22   (Served again 1813) November 26 Johnston, Samuel (Pro-Admin-NC) March 3, 1793 23 December 8 Hawkins, Benjamin (Pro-Admin/Anti-Admin-NC) March 3, 1795 24  * * * 1790 * * * March 31 Walker, John (Pro-Admin-VA) November 9, 1790 25 June 12 Foster, Theodore (Pro-Admin/F/R-RI) March 3, 1803 26  Stanton, Joseph, Jr. (Anti-Admin-RI) March 3, 1793 27 November 9 Monroe, James (Anti-Admin-VA) May 27, 1794 28 November 13 Dickinson, Philemon (Pro-Admin-NJ) March 3, 1793 29   SECOND CONGRESS MARCH 4, 1791, TO MARCH 3, 1793  Start of Initial    Senate Service Name/Party   End of Service Rank    3 * * * 1791 * * * March 4 Bradley, Stephen R. (Anti-Admin-VT) March 3, 1795 30   (Served again 1801)  Burr, Aaron (Anti-Admin/R-NY) March 3, 1797 31  Cabot, George (Pro-Admin/F-MA) June 9, 1796 32  Rutherfurd, John (Pro-Admin/F-NJ) November 26, 1798 33 June 13 Sherman, Roger (Pro-Admin-CT) July 23, 1793 34 October 17 Robinson, Moses (Anti-Admin/R-VT) October 15, 1796 35  * * * 1792 * * * June 18 Brown, John (Anti-Admin/R-KY) March 3, 1805 36  Edwards, John (Anti-Admin-KY) March 3, 1795 37 October 18 Taylor, John (Anti-Admin-VA) May 11, 1794 38   (Served again 1803, 1822)  * * * 1793\n"
     ]
    }
   ],
   "source": [
    "# Drop the first four characters.\n",
    "page_content = page_content[4:]\n",
    "\n",
    "# Split at the end of the 116th Congress and drop the second (last) segment.\n",
    "page_content = re.split(r'\\s{59}(?=16)', page_content)\n",
    "page_content = page_content[0]\n",
    "\n",
    "# Print a portion of the transformed page content.\n",
    "print(page_content[:2500])"
   ]
  },
  {
   "cell_type": "code",
   "execution_count": 6,
   "metadata": {},
   "outputs": [
    {
     "name": "stdout",
     "output_type": "stream",
     "text": [
      "116\n",
      "\n",
      "FIRST CONGRESS MARCH 4, 1789, TO MARCH 3, 1791 Start of Initial    Senate Service Name/Party End of Service Rank  * * * 1789 * * * March 4 Bassett, Richard (Anti-Admin/Pro-Admin-DE) March 3, 1793 1  Butler, Pierce (Pro-Admin/Anti-Admin/R-SC) October 25, 1796 2   (Served again 1802)  Carroll, Charles (Pro-Admin-MD) November 30, 1792 3  Dalton, Tristram (Pro-Admin-MA) March 3, 1791 4  Ellsworth, Oliver (Pro-Admin/F-CT) March 8, 1796 5  Elmer, Jonathan (Pro-Admin-NJ) March 3, 1791 6  Few, William (Anti-Admin-GA) March 3, 1793 7  Grayson, William (Anti-Admin-VA) March 12, 1790 8  Gunn, James (Anti-Admin/F-GA) March 3, 1801 9  Henry, John (Pro-Admin/F-MD) July 10, 1797 10  Izard, Ralph (Pro-Admin-SC) March 3, 1795 11  Johnson, William S. (Pro-Admin-CT) March 4, 1791 12  Langdon, John (Pro-Admin/Anti-Admin/R-NH) March 3, 1801 13  Lee, Richard Henry (Anti-Admin-VA) October 8, 1792 14  Maclay, William (Anti-Admin-PA) March 3, 1791 15  Morris, Robert (Pro-Admin-PA) March 3, 1795 16  Paterson, William (Pro-Admin-NJ) November 13, 1790 17  Read, George (Pro-Admin-DE) September 18, 1793 18  Schuyler, Philip John (Pro-Admin-NY) March 3, 1791 19   (Served again 1797)  Strong, Caleb (Pro-Admin/F-MA) June 1, 1796 20  Wingate, Paine (Anti-Admin-NH) March 3, 1793 21 July 16 King, Rufus (Pro-Admin/F-NY) May 23, 1796 22   (Served again 1813) November 26 Johnston, Samuel (Pro-Admin-NC) March 3, 1793 23 December 8 Hawkins, Benjamin (Pro-Admin/Anti-Admin-NC) March 3, 1795 24  * * * 1790 * * * March 31 Walker, John (Pro-Admin-VA) November 9, 1790 25 June 12 Foster, Theodore (Pro-Admin/F/R-RI) March 3, 1803 26  Stanton, Joseph, Jr. (Anti-Admin-RI) March 3, 1793 27 November 9 Monroe, James (Anti-Admin-VA) May 27, 1794 28 November 13 Dickinson, Philemon (Pro-Admin-NJ) March 3, 1793 29\n",
      "\n",
      "SECOND CONGRESS MARCH 4, 1791, TO MARCH 3, 1793  Start of Initial    Senate Service Name/Party   End of Service Rank    3 * * * 1791 * * * March 4 Bradley, Stephen R. (Anti-Admin-VT) March 3, 1795 30   (Served again 1801)  Burr, Aaron (Anti-Admin/R-NY) March 3, 1797 31  Cabot, George (Pro-Admin/F-MA) June 9, 1796 32  Rutherfurd, John (Pro-Admin/F-NJ) November 26, 1798 33 June 13 Sherman, Roger (Pro-Admin-CT) July 23, 1793 34 October 17 Robinson, Moses (Anti-Admin/R-VT) October 15, 1796 35  * * * 1792 * * * June 18 Brown, John (Anti-Admin/R-KY) March 3, 1805 36  Edwards, John (Anti-Admin-KY) March 3, 1795 37 October 18 Taylor, John (Anti-Admin-VA) May 11, 1794 38   (Served again 1803, 1822)  * * * 1793 * * * January 10 Potts, Richard (Pro-Admin/F-MD) October 24, 1796 39\n",
      "\n",
      "THIRD CONGRESS March 4, 1793, TO MARCH 3, 1795  March 4 Bradford, William (Pro-Admin/F-RI) October 1797 40  Frelinghuysen, Frederick (Pro-Admin/F-NJ) November 12, 1796 41  Jackson, James (Anti-Admin-GA) October 31, 1795 42   (Served again 1801)  Livermore, Samuel (Pro-Admin/F-NH) June 12, 1801 43  Martin, Alexander (Anti-Admin/R-NC) March 3, 1799 44  Vining, John (Pro-Admin/F-DE) January 19, 1798 45 December 2 Mitchell, Stephen M. (Pro-Admin-CT) March 3, 1795 46  * * * 1794 * * * April 24 Ross, James (Pro-Admin/F-PA) March 3, 1803 47 November 18 Mason, Stevens T. (R-VA) May 10, 1803 48  Tazewell, Henry (Anti-Admin/R-VA) January 24, 1799 49  * * * 1795 * * * February 7 Latimer, Henry (F-DE) February 28, 1801 50\n",
      "\n"
     ]
    }
   ],
   "source": [
    "# Split the massive string into segments corresponding to each congress.\n",
    "segments = re.split('\\s{1,3}(?=\\w+\\-?\\w+?\\sCONGRESS)', page_content)\n",
    "\n",
    "# Print the length of the list, which matches the 116 congresses.\n",
    "print(str(len(segments)) + '\\n')\n",
    "\n",
    "# Print the first few items of the list, each corresponding to one congress.\n",
    "for item in segments[:3]:\n",
    "    print(item + '\\n')"
   ]
  },
  {
   "cell_type": "code",
   "execution_count": 7,
   "metadata": {},
   "outputs": [],
   "source": [
    "# Create a list to accumulate all the desired rows of data.\n",
    "all_senators = []"
   ]
  },
  {
   "cell_type": "code",
   "execution_count": 8,
   "metadata": {},
   "outputs": [],
   "source": [
    "# Loop through the segments list, using sub loops tied to its index.\n",
    "for y in range(len(segments)):\n",
    "    \n",
    "    # Get the string that describes which congress.\n",
    "    congress = segments[y]\n",
    "    congress = congress.split()\n",
    "    congress = congress[0].title()\n",
    "    \n",
    "    # Group the congress by year.\n",
    "    by_year = re.split(r'\\s(?=\\*\\s\\*\\s\\*\\s?\\d{4})', segments[y])\n",
    "    \n",
    "    # Get the initial service dates.\n",
    "    dates = []\n",
    "\n",
    "    # Starting with the first year of the congress.\n",
    "    y1 = re.findall(r'\\d{4}(?=,? TO)', by_year[0])\n",
    "    y1 = ', ' + y1[0]\n",
    "    d1 = re.findall(r'[JFMASOND][a-z]+ \\d{1,2}(?=\\s)', by_year[0])\n",
    "    dtyr1 = [s + y1 for s in d1]\n",
    "    dates = dates + dtyr1\n",
    "\n",
    "    # Continuing with the other years.\n",
    "    for year in by_year[1:]:\n",
    "        yr = re.findall(r'\\d{4}(?=\\s?\\*\\s\\*\\s\\*)', year)\n",
    "        yr = ', ' + yr[0]\n",
    "        d = re.findall(r'[JFMASOND][a-z]+ \\d{1,2}(?=\\s)', year)\n",
    "        dtyr2 = [s + yr for s in d]\n",
    "        dates = dates + dtyr2\n",
    "    \n",
    "    # Group by dates.\n",
    "    by_date = re.split(r'\\s(?=[JFMASOND][a-z]+ \\d{1,2}\\s)', segments[y])\n",
    "    by_date = by_date[1:]\n",
    "    \n",
    "    # Create rows and add dates.\n",
    "    rows = []\n",
    "    for x in range(len(by_date)):\n",
    "        item = by_date[x]\n",
    "        item = re.split(r\"([a-zA-Z]+\\,\\s+[a-zA-Z]+)\", item)[1:]\n",
    "        item = [\", \".join(item[i:i+2]) for i in range(0, len(item), 2)]\n",
    "        item = [re.findall(r'^(.*?)\\s+\\((.*?)\\)\\s+(.*?\\d{4})(.*?)$', _)[0:] for _ in item]\n",
    "        \n",
    "        for r in item:\n",
    "            row = list(itertools.chain(*r))\n",
    "            row.append(dates[x])\n",
    "            rows.append(row)\n",
    "    \n",
    "    # Add the congress to each row.    \n",
    "    for row in rows:\n",
    "        row.append(congress)\n",
    "    \n",
    "    # Add the completed rows to the master list.\n",
    "    for row in rows:\n",
    "        all_senators.append(row)"
   ]
  },
  {
   "cell_type": "code",
   "execution_count": 9,
   "metadata": {},
   "outputs": [
    {
     "name": "stdout",
     "output_type": "stream",
     "text": [
      "['Trumbull, Jonathan, , Jr.', 'F-CT', 'June 10, 1796', ' 56', 'March 4, 1795', 'Fourth']\n",
      "['Walton, George,', 'F-GA', 'April 12, 1796', ' 57  * * * 1796 * * *', 'November 16, 1795', 'Fourth']\n",
      "['Tattnall, Josiah,', 'R-GA', 'March 3, 1799', ' 58', 'April 12, 1796', 'Fourth']\n",
      "['Hillhouse, James,', 'F-CT', 'June 10, 1810', ' 59', 'May 18, 1796', 'Fourth']\n",
      "['Goodhue, Benjamin,', 'F-MA', 'November 8, 1800', ' 60  ', 'June 11, 1796', 'Fourth']\n",
      "['Sedgwick, Theodore,', 'F-MA', 'March 3, 1799', ' 61', 'June 11, 1796', 'Fourth']\n",
      "['Blount, William,', 'R-TN', 'July 8, 1797', ' 62  ', 'August 2, 1796', 'Fourth']\n",
      "['Cocke, William,', 'R-TN', 'September 26, 1797', ' 63   (Served again 1799)', 'August 2, 1796', 'Fourth']\n",
      "['Tracy, Uriah,', 'F-CT', 'July 19, 1807', ' 64', 'October 13, 1796', 'Fourth']\n",
      "['Tichenor, Isaac,', 'F-VT', 'October 17, 1797', ' 65   (Served again 1815)', 'October 18, 1796', 'Fourth']\n",
      "['Laurance, John,', 'F-NY', 'August 1800', ' 66', 'November 9, 1796', 'Fourth']\n",
      "['Stockton, Richard,', 'F-NJ', 'March 3, 1799', ' 67', 'November 12, 1796', 'Fourth']\n",
      "['Howard, John,  E.', 'F-MD', 'March 3, 1803', ' 68', 'November 21, 1796', 'Fourth']\n",
      "['Hunter, John,', 'R-SC', 'November 26, 1798', ' 69', 'December 8, 1796', 'Fourth']\n",
      "['Schuyler, Philip,  J.', 'F-NY', 'January 3, 1798', '   (First served 1789-1791)', 'March 4, 1797', 'Fifth']\n",
      "['Anderson, Joseph,', 'R-TN', 'March 3, 1799', ' 70   (Served again 1799)  ', 'September 26, 1797', 'Fifth']\n",
      "['Jackson, Andrew,', 'R-TN', 'April 1798', ' 71   (Served again 1823)', 'September 26, 1797', 'Fifth']\n",
      "['Chipman, Nathaniel,', 'F-VT', 'March 3, 1803', ' 72', 'October 17, 1797', 'Fifth']\n",
      "['Greene, Ray,', 'F-RI', 'March 5, 1801', ' 73', 'November 13, 1797', 'Fifth']\n",
      "['Lloyd, James,', 'F-MD', 'December 1, 1800', ' 74  * * * 1798 * * *', 'December 8, 1797', 'Fifth']\n"
     ]
    }
   ],
   "source": [
    "# Print a portion of the resulting list of list.\n",
    "for item in all_senators[55:75]:\n",
    "    print(item)"
   ]
  },
  {
   "cell_type": "code",
   "execution_count": 10,
   "metadata": {},
   "outputs": [],
   "source": [
    "# Remove spurious rows that only had two items.\n",
    "all_senators = [x for x in all_senators if len(x) != 2]"
   ]
  },
  {
   "cell_type": "markdown",
   "metadata": {},
   "source": [
    "**Loading the Data into a Pandas DataFrame**  \n",
    "\n",
    "Now the data are suitable for a Pandas DataFrame. Further transformation of the data will take place via Pandas."
   ]
  },
  {
   "cell_type": "code",
   "execution_count": 11,
   "metadata": {},
   "outputs": [],
   "source": [
    "# Import pandas.\n",
    "import pandas as pd\n",
    "\n",
    "# Convert the list of lists into a pandas dataframe.\n",
    "senators = pd.DataFrame(all_senators, columns=['name', \n",
    "                                               'party_state', \n",
    "                                               'end_date', \n",
    "                                               'historical_rank', \n",
    "                                               'initial_date', \n",
    "                                               'group'])"
   ]
  },
  {
   "cell_type": "code",
   "execution_count": 12,
   "metadata": {
    "scrolled": true
   },
   "outputs": [],
   "source": [
    "# Extract historical rank data from two columns where it ended up.\n",
    "senators['historical_rank'] = senators['historical_rank'].str.strip()\n",
    "senators['hist_rank_new'] = senators['historical_rank'].str.extract('(^[\\d]{1,4})')\n",
    "senators = senators.drop(['historical_rank'], axis=1)\n",
    "senators['end_date'] = senators['end_date'].str.strip()\n",
    "senators['hist_rank_supp'] = senators['end_date'].str.extract('(^[\\d]{1,4})')"
   ]
  },
  {
   "cell_type": "code",
   "execution_count": 13,
   "metadata": {},
   "outputs": [],
   "source": [
    "# Now historical rank resides in two new columns. Make them integers with nan=0.\n",
    "senators['hist_rank_new'] = senators['hist_rank_new'].fillna(0).astype(int)\n",
    "senators['hist_rank_supp'] = senators['hist_rank_supp'].fillna(0).astype(int)"
   ]
  },
  {
   "cell_type": "code",
   "execution_count": 14,
   "metadata": {},
   "outputs": [],
   "source": [
    "# Identify problematic ranks and make necessary changes.\n",
    "senators.at[81, 'hist_rank_supp'] = 0\n",
    "senators.at[158, 'hist_rank_new'] = 0\n",
    "senators.at[258, 'hist_rank_supp'] = 0"
   ]
  },
  {
   "cell_type": "code",
   "execution_count": 15,
   "metadata": {},
   "outputs": [],
   "source": [
    "# Add the two series together to form the new column for historical ranking.\n",
    "senators['historical_rank'] = senators['hist_rank_new'] + senators['hist_rank_supp']\n",
    "\n",
    "# Drop the two columns that were added together.\n",
    "senators = senators.drop(['hist_rank_new'], axis=1)\n",
    "senators = senators.drop(['hist_rank_supp'], axis=1)\n",
    "\n",
    "# Remove the rank data still in the end_date column.\n",
    "senators['end_date'] = senators['end_date'].str.replace('^[\\d]{1,4}', '')"
   ]
  },
  {
   "cell_type": "code",
   "execution_count": 16,
   "metadata": {},
   "outputs": [],
   "source": [
    "# Create two columns from the party_state column.\n",
    "senators['party_state'] = senators['party_state'].str.strip()\n",
    "senators['state'] = senators['party_state'].str.extract('([A-Z]{2}$)')\n",
    "senators['party_state'] = senators['party_state'].map(lambda x: str(x)[:-3]) \n",
    "senators.rename(columns={'party_state':'party'}, inplace=True)"
   ]
  },
  {
   "cell_type": "code",
   "execution_count": 17,
   "metadata": {},
   "outputs": [],
   "source": [
    "# Create a new row for a senator who was missed.\n",
    "new_row = pd.DataFrame({'name':'Wagner, Robert, F.' , \n",
    "                        'party':'D', \n",
    "                        'state':'NY', \n",
    "                        'initial_date':'March 4, 1927', \n",
    "                        'group':'Seventieth', \n",
    "                        'end_date':'June 28, 1949', \n",
    "                        'historical_rank':1255}, index=[1385])\n",
    "\n",
    "# Add the new row by splitting, concatenating, and resetting the index.\n",
    "senators = pd.concat([senators.iloc[:1385], new_row, senators.iloc[1385:]])\n",
    "senators = senators.reset_index(drop=True)"
   ]
  },
  {
   "cell_type": "code",
   "execution_count": 18,
   "metadata": {},
   "outputs": [],
   "source": [
    "# Identify other problematic values and make necessary changes.\n",
    "senators.at[18, 'name'] = 'Schuyler, Philip, John'\n",
    "senators.at[69, 'name'] = 'Schuyler, Philip, John'\n",
    "senators.at[81, 'end_date'] = 'June 6, 1801'\n",
    "senators.at[124, 'name'] = 'Armstrong, John, Jr.'\n",
    "senators.at[127, 'name'] = 'Armstrong, John, Jr.'\n",
    "senators.at[285, 'end_date'] = 'November 7, 1828'\n",
    "senators.at[831, 'end_date'] = 'May 17, 1876'\n",
    "senators.at[1384, 'party'] = 'R'\n",
    "senators.at[1384, 'state'] = 'PA'\n",
    "senators.at[1384, 'end_date'] = 'December 6, 1929'\n",
    "senators.at[1440, 'name'] = 'Clark, Joel, Bennett (Champ)'\n",
    "senators.at[1440, 'party'] = 'D'\n",
    "senators.at[1440, 'state'] = 'MO'\n",
    "senators.at[1440, 'end_date'] = 'January 3, 1945'\n",
    "senators.at[1449, 'name'] = 'McCarran, Patrick, A. (Pat)'\n",
    "senators.at[1449, 'pary'] = 'D'\n",
    "senators.at[1449, 'state'] = 'NV'\n",
    "senators.at[1449, 'end_date'] = 'September 28, 1954'\n",
    "senators.at[1949, 'name'] = 'Brown, George Hanks (Hank)'\n",
    "senators.at[1949, 'party'] = 'R'\n",
    "senators.at[1949, 'state'] = 'CO'\n",
    "senators.at[1949, 'end_date'] = 'January 3, 1997'\n",
    "senators.at[1517, 'name'] = 'Stewart, A.T. (Tom)'\n",
    "senators.at[1517, 'party'] = 'D'\n",
    "senators.at[1517, 'state'] = 'TN'\n",
    "senators.at[1517, 'end_date'] = 'January 3, 1949'"
   ]
  },
  {
   "cell_type": "code",
   "execution_count": 19,
   "metadata": {},
   "outputs": [],
   "source": [
    "# Fix missing historical ranks (historical_rank = 0). Improves on source doc.\n",
    "senators.at[69, 'historical_rank'] = 19\n",
    "senators.at[83, 'historical_rank'] = 70\n",
    "senators.at[85, 'historical_rank'] = 63\n",
    "senators.at[100, 'historical_rank'] = 42\n",
    "senators.at[107, 'historical_rank'] = 30\n",
    "senators.at[112, 'historical_rank'] = 2\n",
    "senators.at[120, 'historical_rank'] = 38\n",
    "senators.at[124, 'historical_rank'] = 91\n",
    "senators.at[127, 'historical_rank'] = 91\n",
    "senators.at[133, 'historical_rank'] = 120\n",
    "senators.at[134, 'historical_rank'] = 121\n",
    "senators.at[139, 'historical_rank'] = 79\n",
    "senators.at[146, 'historical_rank'] = 86\n",
    "senators.at[158, 'historical_rank'] = 146\n",
    "senators.at[163, 'historical_rank'] = 117\n",
    "senators.at[169, 'historical_rank'] = 134\n",
    "senators.at[173, 'historical_rank'] = 116\n",
    "senators.at[186, 'historical_rank'] = 22\n",
    "senators.at[189, 'historical_rank'] = 100\n",
    "senators.at[194, 'historical_rank'] = 82\n",
    "senators.at[208, 'historical_rank'] = 65\n",
    "senators.at[210, 'historical_rank'] = 163\n",
    "senators.at[242, 'historical_rank'] = 168\n",
    "senators.at[260, 'historical_rank'] = 188\n",
    "senators.at[273, 'historical_rank'] = 144\n",
    "senators.at[275, 'historical_rank'] = 144\n",
    "senators.at[276, 'historical_rank'] = 38\n",
    "senators.at[280, 'historical_rank'] = 71\n",
    "senators.at[285, 'historical_rank'] = 260\n",
    "senators.at[291, 'historical_rank'] = 170\n",
    "senators.at[303, 'historical_rank'] = 190\n",
    "senators.at[312, 'historical_rank'] = 199\n",
    "senators.at[315, 'historical_rank'] = 273\n",
    "senators.at[325, 'historical_rank'] = 237\n",
    "senators.at[326, 'historical_rank'] = 207\n",
    "senators.at[327, 'historical_rank'] = 160\n",
    "senators.at[331, 'historical_rank'] = 262\n",
    "senators.at[332, 'historical_rank'] = 278\n",
    "senators.at[334, 'historical_rank'] = 197\n",
    "senators.at[336, 'historical_rank'] = 220\n",
    "senators.at[831, 'historical_rank'] = 740\n",
    "senators.at[1384, 'historical_rank'] = 1254"
   ]
  },
  {
   "cell_type": "code",
   "execution_count": 20,
   "metadata": {},
   "outputs": [],
   "source": [
    "# Remove extra comma from name column values.\n",
    "senators['name'] = senators['name'].str.replace(r'\\,$','')"
   ]
  },
  {
   "cell_type": "code",
   "execution_count": 21,
   "metadata": {},
   "outputs": [],
   "source": [
    "# Remove extra spaces from the name column values.\n",
    "senators['name'] = senators['name'].str.replace('  ', ' ')\n",
    "senators['name'] = senators['name'].str.strip()"
   ]
  },
  {
   "cell_type": "code",
   "execution_count": 22,
   "metadata": {},
   "outputs": [],
   "source": [
    "# Strip any possible extra spacing from the date columns.\n",
    "senators['initial_date'] = senators['initial_date'].str.strip()\n",
    "senators['end_date'] = senators['end_date'].str.strip()"
   ]
  },
  {
   "cell_type": "code",
   "execution_count": 23,
   "metadata": {},
   "outputs": [],
   "source": [
    "# Reorder the columns.\n",
    "senators = senators[['name', \n",
    "                     'party',\n",
    "                     'state',\n",
    "                     'initial_date', \n",
    "                     'group', \n",
    "                     'end_date', \n",
    "                     'historical_rank']]"
   ]
  },
  {
   "cell_type": "code",
   "execution_count": 24,
   "metadata": {},
   "outputs": [
    {
     "name": "stdout",
     "output_type": "stream",
     "text": [
      "                   name                   party state     initial_date  group  \\\n",
      "0      Bassett, Richard    Anti-Admin/Pro-Admin    DE    March 4, 1789  First   \n",
      "1        Butler, Pierce  Pro-Admin/Anti-Admin/R    SC    March 4, 1789  First   \n",
      "2      Carroll, Charles               Pro-Admin    MD    March 4, 1789  First   \n",
      "3      Dalton, Tristram               Pro-Admin    MA    March 4, 1789  First   \n",
      "4     Ellsworth, Oliver             Pro-Admin/F    CT    March 4, 1789  First   \n",
      "...                 ...                     ...   ...              ...    ...   \n",
      "2136       Romney, Mitt                       R    UT  January 3, 2019  116Th   \n",
      "2137        Braun, Mike                       R    IN  January 3, 2019  116Th   \n",
      "2138       Hawley, Josh                       R    MO  January 3, 2019  116Th   \n",
      "2139        Scott, Rick                       R    FL  January 8, 2019  116Th   \n",
      "2140    Loeffler, Kelly                       R    GA  January 6, 2020  116Th   \n",
      "\n",
      "               end_date  historical_rank  \n",
      "0         March 3, 1793                1  \n",
      "1      October 25, 1796                2  \n",
      "2     November 30, 1792                3  \n",
      "3         March 3, 1791                4  \n",
      "4         March 8, 1796                5  \n",
      "...                 ...              ...  \n",
      "2136                                1980  \n",
      "2137                                1981  \n",
      "2138                                1982  \n",
      "2139                                1983  \n",
      "2140                                1984  \n",
      "\n",
      "[2141 rows x 7 columns]\n"
     ]
    }
   ],
   "source": [
    "print(senators)"
   ]
  },
  {
   "cell_type": "markdown",
   "metadata": {},
   "source": [
    "**Conclusion of the Project**  \n",
    "\n",
    "As a final step I export the senators DataFrame as a CSV file that others may use for their own purposes. It is posted on GitHub. "
   ]
  },
  {
   "cell_type": "code",
   "execution_count": 25,
   "metadata": {},
   "outputs": [],
   "source": [
    "# Export the completed dataframe to CSV.\n",
    "pathway = r'C:\\Users\\edpar\\Desktop\\senators.csv'\n",
    "senators.to_csv(pathway, index = False, header = True)"
   ]
  }
 ],
 "metadata": {
  "kernelspec": {
   "display_name": "Python 3",
   "language": "python",
   "name": "python3"
  },
  "language_info": {
   "codemirror_mode": {
    "name": "ipython",
    "version": 3
   },
   "file_extension": ".py",
   "mimetype": "text/x-python",
   "name": "python",
   "nbconvert_exporter": "python",
   "pygments_lexer": "ipython3",
   "version": "3.7.6"
  }
 },
 "nbformat": 4,
 "nbformat_minor": 4
}
